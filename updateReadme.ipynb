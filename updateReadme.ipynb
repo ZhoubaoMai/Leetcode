{
 "cells": [
  {
   "cell_type": "code",
   "execution_count": 32,
   "metadata": {
    "scrolled": false
   },
   "outputs": [
    {
     "name": "stdout",
     "output_type": "stream",
     "text": [
      "{'1': 'Easy', '2': 'Medium', '3': 'Medium', '4': 'Hard', '5': 'Medium', '6': 'Medium', '7': 'Easy', '8': 'Medium', '9': 'Easy', '10': 'Hard', '11': 'Medium', '12': 'Medium', '13': 'Easy', '14': 'Easy', '15': 'Medium', '16': 'Medium', '17': 'Medium', '18': 'Medium', '19': 'Medium', '20': 'Easy', '21': 'Easy', '22': 'Medium', '23': 'Hard', '24': 'Medium', '25': 'Hard', '26': 'Easy', '27': 'Easy', '28': 'Easy', '29': 'Medium', '30': 'Hard', '31': 'Medium', '32': 'Hard', '33': 'Medium', '34': 'Medium', '35': 'Easy', '36': 'Medium', '37': 'Hard', '38': 'Easy', '39': 'Medium', '40': 'Medium', '41': 'Hard', '42': 'Hard', '43': 'Medium', '44': 'Hard', '45': 'Hard', '46': 'Medium', '47': 'Medium', '48': 'Medium', '49': 'Medium', '50': 'Medium', '51': 'Hard', '52': 'Hard', '53': 'Easy', '54': 'Medium', '55': 'Medium', '56': 'Medium', '57': 'Hard', '58': 'Easy', '59': 'Medium', '60': 'Medium', '61': 'Medium', '62': 'Medium', '63': 'Medium', '64': 'Medium', '65': 'Hard', '66': 'Easy', '67': 'Easy', '68': 'Hard', '69': 'Easy', '70': 'Easy', '71': 'Medium', '72': 'Hard', '73': 'Medium', '74': 'Medium', '75': 'Medium', '76': 'Hard', '77': 'Medium', '78': 'Medium', '79': 'Medium', '80': 'Medium', '81': 'Medium', '82': 'Medium', '83': 'Easy', '84': 'Hard', '85': 'Hard', '86': 'Medium', '87': 'Hard', '88': 'Easy', '89': 'Medium', '90': 'Medium', '91': 'Medium', '92': 'Medium', '93': 'Medium', '94': 'Medium', '95': 'Medium', '96': 'Medium', '97': 'Hard', '98': 'Medium', '99': 'Hard', '100': 'Easy', '101': 'Easy', '102': 'Medium', '103': 'Medium', '104': 'Easy', '105': 'Medium', '106': 'Medium', '107': 'Easy', '108': 'Easy', '109': 'Medium', '110': 'Easy', '111': 'Easy', '112': 'Easy', '113': 'Medium', '114': 'Medium', '115': 'Hard', '116': 'Medium', '117': 'Medium', '118': 'Easy', '119': 'Easy', '120': 'Medium', '121': 'Easy', '122': 'Easy', '123': 'Hard', '124': 'Hard', '125': 'Easy', '126': 'Hard', '127': 'Medium', '128': 'Hard', '129': 'Medium', '130': 'Medium', '131': 'Medium', '132': 'Hard', '133': 'Medium', '134': 'Medium', '135': 'Hard', '136': 'Easy', '137': 'Medium', '138': 'Medium', '139': 'Medium', '140': 'Hard', '141': 'Easy', '142': 'Medium', '143': 'Medium', '144': 'Medium', '145': 'Hard', '146': 'Hard', '147': 'Medium', '148': 'Medium', '149': 'Hard', '150': 'Medium', '151': 'Medium', '152': 'Medium', '153': 'Medium', '154': 'Hard', '155': 'Easy', '156': 'Medium', '157': 'Easy', '158': 'Hard', '159': 'Hard', '160': 'Easy', '161': 'Medium', '162': 'Medium', '163': 'Medium', '164': 'Hard', '165': 'Medium', '166': 'Medium', '167': 'Easy', '168': 'Easy', '169': 'Easy', '170': 'Easy', '171': 'Easy', '172': 'Easy', '173': 'Medium', '174': 'Hard', '179': 'Medium', '186': 'Medium', '187': 'Medium', '188': 'Hard', '189': 'Easy', '190': 'Easy', '191': 'Easy', '198': 'Easy', '199': 'Medium', '200': 'Medium', '201': 'Medium', '202': 'Easy', '203': 'Easy', '204': 'Easy', '205': 'Easy', '206': 'Easy', '207': 'Medium', '208': 'Medium', '209': 'Medium', '210': 'Medium', '211': 'Medium', '212': 'Hard', '213': 'Medium', '214': 'Hard', '215': 'Medium', '216': 'Medium', '217': 'Easy', '218': 'Hard', '219': 'Easy', '220': 'Medium', '221': 'Medium', '222': 'Medium', '223': 'Medium', '224': 'Hard', '225': 'Easy', '226': 'Easy', '227': 'Medium', '228': 'Medium', '229': 'Medium', '230': 'Medium', '231': 'Easy', '232': 'Easy', '233': 'Hard', '234': 'Easy', '235': 'Easy', '236': 'Medium', '237': 'Easy', '238': 'Medium', '239': 'Hard', '240': 'Medium', '241': 'Medium', '242': 'Easy', '243': 'Easy', '244': 'Medium', '245': 'Medium', '246': 'Easy', '247': 'Medium', '248': 'Hard', '249': 'Medium', '250': 'Medium', '251': 'Medium', '252': 'Easy', '253': 'Medium', '254': 'Medium', '255': 'Medium', '256': 'Easy', '257': 'Easy', '258': 'Easy', '259': 'Medium', '260': 'Medium', '261': 'Medium', '263': 'Easy', '264': 'Medium', '265': 'Hard', '266': 'Easy', '267': 'Medium', '268': 'Easy', '269': 'Hard', '270': 'Easy', '271': 'Medium', '272': 'Hard', '273': 'Hard', '274': 'Medium', '275': 'Medium', '276': 'Easy', '277': 'Medium', '278': 'Easy', '279': 'Medium', '280': 'Medium', '281': 'Medium', '282': 'Hard', '283': 'Easy', '284': 'Medium', '285': 'Medium', '286': 'Medium', '287': 'Medium', '288': 'Medium', '289': 'Medium', '290': 'Easy', '291': 'Hard', '292': 'Easy', '293': 'Easy', '294': 'Medium', '295': 'Hard', '296': 'Hard', '297': 'Hard', '298': 'Medium', '299': 'Medium', '300': 'Medium', '301': 'Hard', '302': 'Hard', '303': 'Easy', '304': 'Medium', '305': 'Hard', '306': 'Medium', '307': 'Medium', '308': 'Hard', '309': 'Medium', '310': 'Medium', '311': 'Medium', '312': 'Hard', '313': 'Medium', '314': 'Medium', '315': 'Hard', '316': 'Hard', '317': 'Hard', '318': 'Medium', '319': 'Medium', '320': 'Medium', '321': 'Hard', '322': 'Medium', '323': 'Medium', '324': 'Medium', '325': 'Medium', '326': 'Easy', '327': 'Hard', '328': 'Medium', '329': 'Hard', '330': 'Hard', '331': 'Medium', '332': 'Medium', '333': 'Medium', '334': 'Medium', '335': 'Hard', '336': 'Hard', '337': 'Medium', '338': 'Medium', '339': 'Easy', '340': 'Hard', '341': 'Medium', '342': 'Easy', '343': 'Medium', '344': 'Easy', '345': 'Easy', '346': 'Easy', '347': 'Medium', '348': 'Medium', '349': 'Easy', '350': 'Easy', '351': 'Medium', '352': 'Hard', '353': 'Medium', '354': 'Hard', '355': 'Medium', '356': 'Medium', '357': 'Medium', '358': 'Hard', '359': 'Easy', '360': 'Medium', '361': 'Medium', '362': 'Medium', '363': 'Hard', '364': 'Medium', '365': 'Medium', '366': 'Medium', '367': 'Easy', '368': 'Medium', '369': 'Medium', '370': 'Medium', '371': 'Easy', '372': 'Medium', '373': 'Medium', '374': 'Easy', '375': 'Medium', '376': 'Medium', '377': 'Medium', '378': 'Medium', '379': 'Medium', '380': 'Medium', '381': 'Hard', '382': 'Medium', '383': 'Easy', '384': 'Medium', '385': 'Medium', '386': 'Medium', '387': 'Easy', '388': 'Medium', '389': 'Easy', '390': 'Medium', '391': 'Hard', '392': 'Medium', '393': 'Medium', '394': 'Medium', '395': 'Medium', '396': 'Medium', '397': 'Medium', '398': 'Medium', '399': 'Medium', '400': 'Easy', '401': 'Easy', '402': 'Medium', '403': 'Hard', '404': 'Easy', '405': 'Easy', '406': 'Medium', '407': 'Hard', '408': 'Easy', '409': 'Easy', '410': 'Hard', '411': 'Hard', '412': 'Easy', '413': 'Medium', '414': 'Easy', '415': 'Easy', '416': 'Medium', '417': 'Medium', '418': 'Medium', '419': 'Medium', '420': 'Hard', '421': 'Medium', '422': 'Easy', '423': 'Medium', '424': 'Medium', '425': 'Hard', '432': 'Hard', '433': 'Medium', '434': 'Easy', '435': 'Medium', '436': 'Medium', '437': 'Easy', '438': 'Easy', '439': 'Medium', '440': 'Hard', '441': 'Easy', '442': 'Medium', '443': 'Easy', '444': 'Medium', '445': 'Medium', '446': 'Hard', '447': 'Easy', '448': 'Easy', '449': 'Medium', '450': 'Medium', '451': 'Medium', '452': 'Medium', '453': 'Easy', '454': 'Medium', '455': 'Easy', '456': 'Medium', '457': 'Medium', '458': 'Easy', '459': 'Easy', '460': 'Hard', '461': 'Easy', '462': 'Medium', '463': 'Easy', '464': 'Medium', '465': 'Hard', '466': 'Hard', '467': 'Medium', '468': 'Medium', '469': 'Medium', '471': 'Hard', '472': 'Hard', '473': 'Medium', '474': 'Medium', '475': 'Easy', '476': 'Easy', '477': 'Medium', '479': 'Easy', '480': 'Hard', '481': 'Medium', '482': 'Easy', '483': 'Hard', '484': 'Medium', '485': 'Easy', '486': 'Medium', '487': 'Medium', '488': 'Hard', '490': 'Medium', '491': 'Medium', '492': 'Easy', '493': 'Hard', '494': 'Medium', '495': 'Medium', '496': 'Easy', '498': 'Medium', '499': 'Hard', '500': 'Easy', '501': 'Easy', '502': 'Hard', '503': 'Medium', '504': 'Easy', '505': 'Medium', '506': 'Easy', '507': 'Easy', '508': 'Medium', '513': 'Medium', '514': 'Hard', '515': 'Medium', '516': 'Medium', '517': 'Hard', '518': 'Medium', '520': 'Easy', '521': 'Easy', '522': 'Medium', '523': 'Medium', '524': 'Medium', '525': 'Medium', '526': 'Medium', '527': 'Hard', '529': 'Medium', '530': 'Easy', '531': 'Medium', '532': 'Easy', '533': 'Medium', '535': 'Medium', '536': 'Medium', '537': 'Medium', '538': 'Easy', '539': 'Medium', '540': 'Medium', '541': 'Easy', '542': 'Medium', '543': 'Easy', '544': 'Medium', '545': 'Medium', '546': 'Hard', '547': 'Medium', '548': 'Medium', '549': 'Medium', '551': 'Easy', '552': 'Hard', '553': 'Medium', '554': 'Medium', '555': 'Medium', '556': 'Medium', '557': 'Easy', '560': 'Medium', '561': 'Easy', '562': 'Medium', '563': 'Easy', '564': 'Hard', '565': 'Medium', '566': 'Easy', '567': 'Medium', '568': 'Hard', '572': 'Easy', '573': 'Medium', '575': 'Easy', '576': 'Medium', '581': 'Easy', '582': 'Medium', '583': 'Medium', '587': 'Hard', '588': 'Hard', '591': 'Hard', '592': 'Medium', '593': 'Medium', '594': 'Easy', '598': 'Easy', '599': 'Easy', '600': 'Hard', '604': 'Easy', '605': 'Easy', '606': 'Easy', '609': 'Medium', '611': 'Medium', '616': 'Medium', '617': 'Easy', '621': 'Medium', '623': 'Medium', '624': 'Easy', '625': 'Medium', '628': 'Easy', '629': 'Hard', '630': 'Hard', '631': 'Hard', '632': 'Hard', '633': 'Easy', '634': 'Medium', '635': 'Medium', '636': 'Medium', '637': 'Easy', '638': 'Medium', '639': 'Hard', '640': 'Medium', '642': 'Hard', '643': 'Easy', '644': 'Hard', '645': 'Easy', '646': 'Medium', '647': 'Medium', '648': 'Medium', '649': 'Medium', '650': 'Medium', '651': 'Medium', '652': 'Medium', '653': 'Easy', '654': 'Medium', '655': 'Medium', '656': 'Hard', '657': 'Easy', '658': 'Medium', '659': 'Medium', '660': 'Hard', '661': 'Easy', '662': 'Medium', '663': 'Medium', '664': 'Hard', '665': 'Easy', '666': 'Medium', '667': 'Medium', '668': 'Hard', '669': 'Easy', '670': 'Medium', '671': 'Easy', '672': 'Medium', '673': 'Medium', '674': 'Easy', '675': 'Hard', '676': 'Medium', '677': 'Medium', '678': 'Medium', '679': 'Hard', '680': 'Easy', '681': 'Medium', '682': 'Easy', '683': 'Hard', '684': 'Medium', '685': 'Hard', '686': 'Easy', '687': 'Easy', '688': 'Medium', '689': 'Hard', '690': 'Easy', '691': 'Hard', '692': 'Medium', '693': 'Easy', '694': 'Medium', '695': 'Medium', '696': 'Easy', '697': 'Easy', '698': 'Medium', '699': 'Hard', '711': 'Hard', '712': 'Medium', '713': 'Medium', '714': 'Medium', '715': 'Hard', '716': 'Easy', '717': 'Easy', '718': 'Medium', '719': 'Hard', '720': 'Easy', '721': 'Medium', '722': 'Medium', '723': 'Medium', '724': 'Easy', '725': 'Medium', '726': 'Hard', '727': 'Hard', '728': 'Easy', '729': 'Medium', '730': 'Hard', '731': 'Medium', '732': 'Hard', '733': 'Easy', '734': 'Easy', '735': 'Medium', '736': 'Hard', '737': 'Medium', '738': 'Medium', '739': 'Medium', '740': 'Medium', '741': 'Hard', '709': 'Easy', '742': 'Medium', '743': 'Easy', '744': 'Easy', '745': 'Hard', '746': 'Easy', '747': 'Easy', '748': 'Easy', '749': 'Hard', '750': 'Medium', '751': 'Easy', '752': 'Medium', '753': 'Hard', '754': 'Easy', '755': 'Medium', '756': 'Medium', '426': 'Medium', '757': 'Hard', '758': 'Easy', '759': 'Hard', '760': 'Easy', '761': 'Hard', '429': 'Easy', '428': 'Hard', '430': 'Medium', '762': 'Easy', '763': 'Medium', '764': 'Medium', '765': 'Hard', '431': 'Hard', '427': 'Easy', '558': 'Easy', '559': 'Easy', '589': 'Easy', '590': 'Easy', '766': 'Easy', '767': 'Medium', '768': 'Hard', '769': 'Medium', '770': 'Hard', '771': 'Easy', '700': 'Easy', '701': 'Medium', '772': 'Hard', '702': 'Medium', '773': 'Hard', '774': 'Hard', '703': 'Easy', '775': 'Medium', '776': 'Medium', '704': 'Easy', '777': 'Medium', '778': 'Hard', '779': 'Medium', '780': 'Hard', '781': 'Medium', '782': 'Hard', '783': 'Easy', '784': 'Easy', '785': 'Medium', '786': 'Hard', '787': 'Medium', '788': 'Easy', '789': 'Medium', '790': 'Medium', '791': 'Medium', '792': 'Medium', '793': 'Hard', '794': 'Medium', '795': 'Medium', '796': 'Easy', '797': 'Medium', '798': 'Hard', '799': 'Medium', '705': 'Easy', '706': 'Easy', '800': 'Easy', '801': 'Medium', '802': 'Medium', '803': 'Hard', '804': 'Easy', '805': 'Hard', '806': 'Easy', '807': 'Medium', '808': 'Medium', '809': 'Medium', '810': 'Hard', '811': 'Easy', '812': 'Easy', '813': 'Medium', '814': 'Medium', '815': 'Hard', '816': 'Medium', '817': 'Medium', '818': 'Hard', '819': 'Easy', '707': 'Easy', '820': 'Medium', '821': 'Easy', '822': 'Medium', '823': 'Medium', '708': 'Medium', '824': 'Easy', '825': 'Medium', '826': 'Medium', '827': 'Hard', '828': 'Hard', '829': 'Hard', '830': 'Easy', '831': 'Medium', '641': 'Medium', '622': 'Medium', '832': 'Easy', '833': 'Medium', '834': 'Hard', '835': 'Medium', '489': 'Hard', '836': 'Easy', '837': 'Medium', '838': 'Medium', '839': 'Hard', '840': 'Easy', '841': 'Medium', '842': 'Medium', '843': 'Hard', '844': 'Easy', '845': 'Medium', '846': 'Medium', '847': 'Hard', '848': 'Medium', '849': 'Easy', '850': 'Hard', '851': 'Medium', '852': 'Easy', '853': 'Medium', '854': 'Hard', '855': 'Medium', '856': 'Medium', '857': 'Hard', '858': 'Medium', '859': 'Easy', '860': 'Easy', '861': 'Medium', '862': 'Hard', '863': 'Medium', '710': 'Hard', '864': 'Hard', '865': 'Medium', '866': 'Medium', '867': 'Easy', '868': 'Easy', '869': 'Medium', '870': 'Medium', '871': 'Hard', '470': 'Medium', '872': 'Easy', '873': 'Medium', '874': 'Easy', '875': 'Medium', '876': 'Easy', '877': 'Medium', '878': 'Hard', '879': 'Hard', '528': 'Medium', '519': 'Medium', '497': 'Medium', '478': 'Medium', '880': 'Medium', '881': 'Medium', '882': 'Hard', '883': 'Easy', '884': 'Easy', '885': 'Medium', '886': 'Medium', '887': 'Hard', '888': 'Easy', '889': 'Medium', '890': 'Medium', '891': 'Hard', '892': 'Easy', '893': 'Easy', '894': 'Medium', '895': 'Hard', '896': 'Easy', '897': 'Easy', '898': 'Medium', '899': 'Hard', '900': 'Medium', '901': 'Medium', '902': 'Hard', '903': 'Hard', '904': 'Medium', '905': 'Easy', '906': 'Hard', '907': 'Medium', '908': 'Easy', '909': 'Medium', '910': 'Medium', '911': 'Medium', '913': 'Hard', '914': 'Easy', '915': 'Medium', '916': 'Medium', '917': 'Easy', '918': 'Medium', '919': 'Medium', '920': 'Hard', '921': 'Medium', '922': 'Easy', '923': 'Medium', '924': 'Hard', '925': 'Easy', '926': 'Medium', '927': 'Hard', '928': 'Hard', '929': 'Easy', '930': 'Medium', '931': 'Medium', '932': 'Medium', '933': 'Easy', '934': 'Medium', '935': 'Medium', '936': 'Hard'}\n"
     ]
    }
   ],
   "source": [
    "import requests\n",
    "import json\n",
    "def get_leetcode_problems():\n",
    "    \"\"\"\n",
    "    used to get leetcode inform\n",
    "    \"\"\"\n",
    "    content = requests.get('https://leetcode.com/api/problems/algorithms/').content\n",
    "    # get all problems\n",
    "    questions = json.loads(content)['stat_status_pairs']\n",
    "    difficultys = ['Easy', 'Medium', 'Hard']\n",
    "    for i in range(len(questions) - 1, -1, -1):\n",
    "        question = questions[i]\n",
    "#         name = question['stat']['question__title']\n",
    "        id_ = str(question['stat']['frontend_question_id'])\n",
    "        difficulty = difficultys[question['difficulty']['level'] - 1]\n",
    "        yield (id_,difficulty)\n",
    "difficulty = list(get_leetcode_problems())\n",
    "difficulty = {key: value for (key,value) in difficulty}\n",
    "print(difficulty)"
   ]
  },
  {
   "cell_type": "code",
   "execution_count": 43,
   "metadata": {},
   "outputs": [
    {
     "name": "stdout",
     "output_type": "stream",
     "text": [
      "[('array', '485', ' Max Consecutive Ones'), ('array', '832', ' Flipping an Image'), ('array', '717', ' 1-bit and 2-bit Characters'), ('array', '283', ' Move Zeroes'), ('array', '896', ' Monotonic Array'), ('array', '566', ' Reshape the Matrix'), ('array', '905', ' Sort Array By Parity'), ('array', '122', ' Best Time to Buy and Sell Stock II'), ('array', '167', ' Two Sum II - Input array is sorted'), ('array', '867', ' Transpose Matrix'), ('array', '766', ' Toeplitz Matrix'), ('array', '888', ' Fair Candy Swap'), ('array', '561', ' Array Partition I'), ('array', '448', ' Find All Numbers Disappeared in an Array'), ('array', '217', ' Contains Duplicate'), ('array', '169', ' Majority Element')]\n",
      "[solution](array/485.%20Max%20Consecutive%20Ones.py)\n"
     ]
    }
   ],
   "source": [
    "import glob\n",
    "def read_solution(path):\n",
    "    '''\n",
    "        reads multiple documents from path\n",
    "    '''\n",
    "    for doc_path in glob.glob(path + '/*/*'):\n",
    "        fileName = doc_path.split('/')[-1]\n",
    "        tag = doc_path.split('/')[-2]\n",
    "        fileName = fileName.split('.')\n",
    "        id = fileName[0]\n",
    "        name = fileName[1]\n",
    "#         name = name.replace(' ', '%20')\n",
    "        yield (tag, id, name)\n",
    "solutions = list(read_solution(\"./\"))\n",
    "solutions = sorted(solutions, key = lambda x:x[0])\n",
    "print(solutions)\n",
    "\n",
    "test = solutions[0]\n",
    "ID = test[1]\n",
    "Title = test[2]\n",
    "tag = test[0]\n",
    "name = Title.replace(' ', '%20')\n",
    "link ='[solution]({}/{}.{}.py)'.format(tag, ID, name)\n",
    "print(link)"
   ]
  },
  {
   "cell_type": "code",
   "execution_count": 45,
   "metadata": {},
   "outputs": [
    {
     "name": "stdout",
     "output_type": "stream",
     "text": [
      "README.md was updated\n"
     ]
    }
   ],
   "source": [
    "import time\n",
    "def update_readme(path, difficultys, solutions):\n",
    "    with open(path,'w') as f:\n",
    "        current_time = time.strftime(\"%Y-%m-%d %H:%M:%S\", time.localtime())\n",
    "        statistics ='Until {}, I have solved {} / {} problems. '.format(current_time, len(solutions), len(difficulty))\n",
    "        f.write(statistics)\n",
    "        f.write('\\n----------------\\n')\n",
    "    with open(path,'a') as f:\n",
    "        f.write('## LeetCode Solution Table\\n')\n",
    "        f.write('| ID | Title | Difficulty | Python |\\n')\n",
    "        f.write('|:---:' * 4 + '|\\n')\n",
    "        for solution in solutions:\n",
    "            ID = solution[1]\n",
    "            Title = solution[2]\n",
    "            Difficulty = difficultys[ID]\n",
    "            tag = solution[0]\n",
    "            name = Title.replace(' ', '%20')\n",
    "            link ='[solution]({}/{}.{}.py)'.format(tag, ID, name)\n",
    "            line = '|{}|{}|{}|{}|\\n'.format(ID, Title, Difficulty, link)\n",
    "            f.write(line)\n",
    "    print('README.md was updated')\n",
    "\n",
    "path = 'README.md'\n",
    "update_readme(path, difficulty, solutions)"
   ]
  }
 ],
 "metadata": {
  "kernelspec": {
   "display_name": "Python 3",
   "language": "python",
   "name": "python3"
  },
  "language_info": {
   "codemirror_mode": {
    "name": "ipython",
    "version": 3
   },
   "file_extension": ".py",
   "mimetype": "text/x-python",
   "name": "python",
   "nbconvert_exporter": "python",
   "pygments_lexer": "ipython3",
   "version": "3.7.0"
  }
 },
 "nbformat": 4,
 "nbformat_minor": 2
}
