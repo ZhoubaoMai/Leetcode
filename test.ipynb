{
 "cells": [
  {
   "cell_type": "code",
   "execution_count": 45,
   "metadata": {
    "scrolled": false
   },
   "outputs": [
    {
     "name": "stdout",
     "output_type": "stream",
     "text": [
      "(6, 0)\n",
      "(8, 0)\n",
      "(7, -1)\n",
      "(7, 1)\n",
      "[(7, 1)]\n",
      "6\n"
     ]
    },
    {
     "data": {
      "text/plain": [
       "'\\n[[0,0,1,0,0,0,0,1,0,0,0,0,0],\\n [0,0,0,0,0,0,0,1,1,1,0,0,0],\\n [0,1,1,0,1,0,0,0,0,0,0,0,0],\\n [0,1,0,0,1,1,0,0,1,0,1,0,0],\\n [0,1,0,0,1,1,0,0,1,1,1,0,0],\\n [0,0,0,0,0,0,0,0,0,0,1,0,0],\\n [0,0,0,0,0,0,0,1,1,1,0,0,0],\\n [0,0,0,0,0,0,0,1,1,0,0,0,0]]\\n'"
      ]
     },
     "execution_count": 45,
     "metadata": {},
     "output_type": "execute_result"
    }
   ],
   "source": [
    "import math\n",
    "class Solution:\n",
    "    def maxAreaOfIsland(self, grid):\n",
    "        \"\"\"\n",
    "        :type grid: List[List[int]]\n",
    "        :rtype: int\n",
    "        \"\"\"\n",
    "        def adj(node, grid):\n",
    "#             i = [x for x in (node[0] - 1, node[0] + 1) if 0<=x<=len(grid[0]) - 1]\n",
    "#             j = [y for y in (node[1] - 1, node[1] + 1) if 0<=y<=len(grid) - 1]  \n",
    "            adjNode = []\n",
    "#             for x in i:\n",
    "#                 if grid[node[1]][x] == 1:\n",
    "#                     adjNode.append((x, node[1]))\n",
    "#             for y in j:\n",
    "#                 if grid[y][node[0]] == 1:\n",
    "#                     adjNode.append((node[0], y))\n",
    "            for v in[(node[0]-1, node[1]), (node[0]+1, node[1]), (node[0], node[1]-1), (node[0], node[1]+1)]:\n",
    "                if node == (7,0):\n",
    "                    print(v)\n",
    "                i, j = v[0], v[1]\n",
    "                if 0<=i<=len(grid[0])-1 and 0<=j<=len(grid)-1 and grid[j][i] == 1:\n",
    "                    adjNode.append(v)\n",
    "            if node == (7,0):\n",
    "                print(adjNode)\n",
    "            return adjNode\n",
    "        \n",
    "        def DFS(u, area, visited, grid):\n",
    "            area += 1\n",
    "            visited.add(u)\n",
    "#             print(\"area = {}\".format(area))\n",
    "            for v in adj(u, grid):\n",
    "                if v not in visited:\n",
    "                    area = DFS(v, area, visited, grid)\n",
    "            return area\n",
    "        \n",
    "#         print(len(grid[0]), len(grid))   \n",
    "        visited = set()\n",
    "        maxArea = 0\n",
    "        for j in range(len(grid)):\n",
    "            for i in range(len(grid[0])):\n",
    "                if grid[j][i] == 1 and (i,j) not in visited:\n",
    "                    area = 0\n",
    "#                     print(\"start point is {} {}\".format(i , j))\n",
    "                    area = DFS((i,j), area, visited, grid)\n",
    "#                     print(\"final area = {}\".format(area))\n",
    "                    if area > maxArea:\n",
    "                        maxArea = area\n",
    "        \n",
    "        return maxArea\n",
    "\n",
    "s=Solution()\n",
    "grid = [[0,0,1,0,0,0,0,1,0,0,0,0,0],\n",
    " [0,0,0,0,0,0,0,1,1,1,0,0,0],\n",
    " [0,1,1,0,1,0,0,0,0,0,0,0,0],\n",
    " [0,1,0,0,1,1,0,0,1,0,1,0,0],\n",
    " [0,1,0,0,1,1,0,0,1,1,1,0,0],\n",
    " [0,0,0,0,0,0,0,0,0,0,1,0,0],\n",
    " [0,0,0,0,0,0,0,1,1,1,0,0,0],\n",
    " [0,0,0,0,0,0,0,1,1,0,0,0,0]]\n",
    "print(s.maxAreaOfIsland(grid))\n",
    "'''\n",
    "[[0,0,1,0,0,0,0,1,0,0,0,0,0],\n",
    " [0,0,0,0,0,0,0,1,1,1,0,0,0],\n",
    " [0,1,1,0,1,0,0,0,0,0,0,0,0],\n",
    " [0,1,0,0,1,1,0,0,1,0,1,0,0],\n",
    " [0,1,0,0,1,1,0,0,1,1,1,0,0],\n",
    " [0,0,0,0,0,0,0,0,0,0,1,0,0],\n",
    " [0,0,0,0,0,0,0,1,1,1,0,0,0],\n",
    " [0,0,0,0,0,0,0,1,1,0,0,0,0]]\n",
    "'''"
   ]
  }
 ],
 "metadata": {
  "kernelspec": {
   "display_name": "Python 3",
   "language": "python",
   "name": "python3"
  },
  "language_info": {
   "codemirror_mode": {
    "name": "ipython",
    "version": 3
   },
   "file_extension": ".py",
   "mimetype": "text/x-python",
   "name": "python",
   "nbconvert_exporter": "python",
   "pygments_lexer": "ipython3",
   "version": "3.7.0"
  }
 },
 "nbformat": 4,
 "nbformat_minor": 2
}
